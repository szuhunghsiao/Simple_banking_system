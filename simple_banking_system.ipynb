{
 "cells": [
  {
   "cell_type": "markdown",
   "metadata": {},
   "source": [
    "# Import needed library"
   ]
  },
  {
   "cell_type": "code",
   "execution_count": null,
   "metadata": {},
   "outputs": [],
   "source": [
    "import random\n",
    "import sqlite3"
   ]
  },
  {
   "cell_type": "markdown",
   "metadata": {},
   "source": [
    "# Define function"
   ]
  },
  {
   "cell_type": "markdown",
   "metadata": {},
   "source": [
    "## SQL database"
   ]
  },
  {
   "cell_type": "code",
   "execution_count": 8,
   "metadata": {},
   "outputs": [],
   "source": [
    "def create_database():\n",
    "    try:\n",
    "        conn = sqlite3.connect('card.s3db')\n",
    "        cur = conn.cursor()\n",
    "        cur.execute('''CREATE TABLE card(id INTEGER, number TEXT, pin TEXT, balance INTEGER DEFAULT 0)''')\n",
    "        print('Table Created.')\n",
    "        conn.commit()\n",
    "        conn.close()\n",
    "    except sqlite3.Error as error:\n",
    "        print(error)\n",
    "\n",
    "\n",
    "def insert_value(ccard, pw):\n",
    "    try:\n",
    "        conn = sqlite3.connect('card.s3db')\n",
    "        cur = conn.cursor()\n",
    "        cur.execute('''INSERT INTO card (number, pin) VALUES (?, ?)''',\n",
    "                    (ccard, pw,))\n",
    "        conn.commit()\n",
    "        conn.close()\n",
    "    except sqlite3.Error as error:\n",
    "        print(error)\n",
    "\n",
    "\n",
    "def load_value():\n",
    "    try:\n",
    "        conn = sqlite3.connect('card.s3db')\n",
    "        cur = conn.cursor()\n",
    "        cur.execute('''SELECT * FROM card''')\n",
    "        records = cur.fetchall()\n",
    "        conn.close()\n",
    "        credit_card_list = [records[i][1] for i in range(len(records))]\n",
    "        passwords_list = [records[i][2] for i in range(len(records))]\n",
    "        balance_list = [records[i][3] for i in range(len(records))]\n",
    "        return credit_card_list, passwords_list, balance_list\n",
    "    except sqlite3.Error as error:\n",
    "        print(error)\n",
    "\n",
    "\n",
    "def update_value(credit_card, entered_balance):\n",
    "    try:\n",
    "        conn = sqlite3.connect('card.s3db')\n",
    "        cur = conn.cursor()\n",
    "        cur.execute('''UPDATE card SET balance = (?) WHERE number = (?)''', (entered_balance, credit_card))\n",
    "        conn.commit()\n",
    "        conn.close()\n",
    "    except sqlite3.Error as error:\n",
    "        print(error)\n",
    "\n",
    "\n",
    "def delete_account(ccard):\n",
    "    try:\n",
    "        conn = sqlite3.connect('card.s3db')\n",
    "        cur = conn.cursor()\n",
    "        cur.execute('''DELETE FROM card WHERE number = (?)''', (ccard,))\n",
    "        conn.commit()\n",
    "        conn.close()\n",
    "    except sqlite3.Error as error:\n",
    "        print(error)\n",
    "\n",
    "\n",
    "def main_choices():\n",
    "    choice = input('1. Create an account\\n2. Log into account\\n0. Exit\\n')\n",
    "    return choice\n",
    "\n",
    "\n",
    "def create_choice():\n",
    "    new_card = create_creditcard()\n",
    "    new_pw = str(random.randint(0, 9999)).zfill(4)\n",
    "    print('Your card has been created')\n",
    "    print(f'Your card number:\\n{new_card}')\n",
    "    print(f'Your card PIN:\\n{new_pw}')\n",
    "    return new_card, new_pw\n",
    "\n",
    "\n",
    "def create_creditcard():\n",
    "    new_card = list(\"400000\" + str(random.randint(0, 999999999)).zfill(9))\n",
    "    new_card = list(map(int, new_card))\n",
    "    temp_card = []\n",
    "    for i in list(range(0, 15)):\n",
    "        x = new_card[i]\n",
    "        if i % 2 == 0:\n",
    "            temp_card.append(x * 2 - 9 if x * 2 > 9 else x * 2)\n",
    "        else:\n",
    "            temp_card.append(x)\n",
    "    new_card.append((10 - sum(temp_card) % 10) % 10)\n",
    "    new_card = ''.join(list(map(str, new_card)))\n",
    "    return new_card\n",
    "\n",
    "\n",
    "def login_choice(credit_card_list, password_list):\n",
    "    chk_card = input('Enter your card number:\\n')\n",
    "    chk_pin = input('Enter your PIN:\\n')\n",
    "    if chk_card not in credit_card_list or (chk_card in credit_card_list and password_list[credit_card_list.index(chk_card)] != chk_pin):\n",
    "        print('Wrong card number or PIN!')\n",
    "        return False\n",
    "    else:\n",
    "        print('You have successfully logged in!')\n",
    "        return chk_card\n",
    "\n",
    "\n",
    "def after_login():\n",
    "    choice = input('1. Balance\\n2. Add income\\n3. Do transfer\\n4. Close account\\n5. Log out\\n0. Exit\\n')\n",
    "    return choice\n",
    "\n",
    "\n",
    "def after_login2(credit_card_list, balance_list):\n",
    "    add_balance = int(input('Enter income:\\n'))\n",
    "    updated_balance = balance_list[credit_card_list.index(user_cc)] + add_balance\n",
    "    return updated_balance\n",
    "\n",
    "\n",
    "def check_alg(credit_card):\n",
    "    card_list = list(credit_card)\n",
    "    card_list = [int(card_list[i])*2 if i % 2 == 0 else int(card_list[i]) for i in range(16)]\n",
    "    card_list = [i - 9 if i >= 10 else i for i in card_list]\n",
    "    if sum(card_list) % 10 == 0:\n",
    "        return True\n",
    "    else:\n",
    "        return False\n",
    "\n",
    "\n",
    "def transfer_balance(credit_card_list, balance_list, user_card, trans_card, transfer_money):\n",
    "    bl_1 = balance_list[credit_card_list.index(user_card)] - transfer_money\n",
    "    bl_2 = balance_list[credit_card_list.index(trans_card)] + transfer_money\n",
    "    return bl_1, bl_2"
   ]
  },
  {
   "cell_type": "markdown",
   "metadata": {},
   "source": [
    "## System running"
   ]
  },
  {
   "cell_type": "code",
   "execution_count": 9,
   "metadata": {},
   "outputs": [
    {
     "name": "stdout",
     "output_type": "stream",
     "text": [
      "table card already exists\n"
     ]
    },
    {
     "name": "stdin",
     "output_type": "stream",
     "text": [
      "1. Create an account\n",
      "2. Log into account\n",
      "0. Exit\n",
      " 1\n"
     ]
    },
    {
     "name": "stdout",
     "output_type": "stream",
     "text": [
      "Your card has been created\n",
      "Your card number:\n",
      "4000002757739261\n",
      "Your card PIN:\n",
      "9184\n"
     ]
    },
    {
     "name": "stdin",
     "output_type": "stream",
     "text": [
      "1. Create an account\n",
      "2. Log into account\n",
      "0. Exit\n",
      " 1\n"
     ]
    },
    {
     "name": "stdout",
     "output_type": "stream",
     "text": [
      "Your card has been created\n",
      "Your card number:\n",
      "4000006376815170\n",
      "Your card PIN:\n",
      "2696\n"
     ]
    },
    {
     "name": "stdin",
     "output_type": "stream",
     "text": [
      "1. Create an account\n",
      "2. Log into account\n",
      "0. Exit\n",
      " 2\n",
      "Enter your card number:\n",
      " 4000002757739261\n",
      "Enter your PIN:\n",
      " 9184\n"
     ]
    },
    {
     "name": "stdout",
     "output_type": "stream",
     "text": [
      "You have successfully logged in!\n"
     ]
    },
    {
     "name": "stdin",
     "output_type": "stream",
     "text": [
      "1. Balance\n",
      "2. Add income\n",
      "3. Do transfer\n",
      "4. Close account\n",
      "5. Log out\n",
      "0. Exit\n",
      " 1\n"
     ]
    },
    {
     "name": "stdout",
     "output_type": "stream",
     "text": [
      "Balance: 0\n"
     ]
    },
    {
     "name": "stdin",
     "output_type": "stream",
     "text": [
      "1. Balance\n",
      "2. Add income\n",
      "3. Do transfer\n",
      "4. Close account\n",
      "5. Log out\n",
      "0. Exit\n",
      " 2\n",
      "Enter income:\n",
      " 10000\n",
      "1. Balance\n",
      "2. Add income\n",
      "3. Do transfer\n",
      "4. Close account\n",
      "5. Log out\n",
      "0. Exit\n",
      " 1\n"
     ]
    },
    {
     "name": "stdout",
     "output_type": "stream",
     "text": [
      "Balance: 10000\n"
     ]
    },
    {
     "name": "stdin",
     "output_type": "stream",
     "text": [
      "1. Balance\n",
      "2. Add income\n",
      "3. Do transfer\n",
      "4. Close account\n",
      "5. Log out\n",
      "0. Exit\n",
      " 3\n",
      "Transfer\n",
      "Enter card number:\n",
      " 4000006376815170\n",
      "Enter how much money you want to transfer:\n",
      " 2000\n"
     ]
    },
    {
     "name": "stdout",
     "output_type": "stream",
     "text": [
      "Success!\n"
     ]
    },
    {
     "name": "stdin",
     "output_type": "stream",
     "text": [
      "1. Balance\n",
      "2. Add income\n",
      "3. Do transfer\n",
      "4. Close account\n",
      "5. Log out\n",
      "0. Exit\n",
      " 1\n"
     ]
    },
    {
     "name": "stdout",
     "output_type": "stream",
     "text": [
      "Balance: 8000\n"
     ]
    },
    {
     "name": "stdin",
     "output_type": "stream",
     "text": [
      "1. Balance\n",
      "2. Add income\n",
      "3. Do transfer\n",
      "4. Close account\n",
      "5. Log out\n",
      "0. Exit\n",
      " 3\n",
      "Transfer\n",
      "Enter card number:\n",
      " 4000006376815171\n"
     ]
    },
    {
     "name": "stdout",
     "output_type": "stream",
     "text": [
      "Probably you made a mistake in the card number. Please try again!\n"
     ]
    },
    {
     "name": "stdin",
     "output_type": "stream",
     "text": [
      "1. Balance\n",
      "2. Add income\n",
      "3. Do transfer\n",
      "4. Close account\n",
      "5. Log out\n",
      "0. Exit\n",
      " 4900006376815171\n"
     ]
    },
    {
     "name": "stdout",
     "output_type": "stream",
     "text": [
      "Invalid input\n"
     ]
    },
    {
     "name": "stdin",
     "output_type": "stream",
     "text": [
      "1. Balance\n",
      "2. Add income\n",
      "3. Do transfer\n",
      "4. Close account\n",
      "5. Log out\n",
      "0. Exit\n",
      " 3\n",
      "Transfer\n",
      "Enter card number:\n",
      " 4900006376815171\n"
     ]
    },
    {
     "name": "stdout",
     "output_type": "stream",
     "text": [
      "Such a card does not exist.\n"
     ]
    },
    {
     "name": "stdin",
     "output_type": "stream",
     "text": [
      "1. Balance\n",
      "2. Add income\n",
      "3. Do transfer\n",
      "4. Close account\n",
      "5. Log out\n",
      "0. Exit\n",
      " 1\n"
     ]
    },
    {
     "name": "stdout",
     "output_type": "stream",
     "text": [
      "Balance: 8000\n"
     ]
    },
    {
     "name": "stdin",
     "output_type": "stream",
     "text": [
      "1. Balance\n",
      "2. Add income\n",
      "3. Do transfer\n",
      "4. Close account\n",
      "5. Log out\n",
      "0. Exit\n",
      " 5\n"
     ]
    },
    {
     "name": "stdout",
     "output_type": "stream",
     "text": [
      "You have successfully logged out!\n"
     ]
    },
    {
     "name": "stdin",
     "output_type": "stream",
     "text": [
      "1. Create an account\n",
      "2. Log into account\n",
      "0. Exit\n",
      " 2\n",
      "Enter your card number:\n",
      " 4000006376815170\n",
      "Enter your PIN:\n",
      " 2696\n"
     ]
    },
    {
     "name": "stdout",
     "output_type": "stream",
     "text": [
      "You have successfully logged in!\n"
     ]
    },
    {
     "name": "stdin",
     "output_type": "stream",
     "text": [
      "1. Balance\n",
      "2. Add income\n",
      "3. Do transfer\n",
      "4. Close account\n",
      "5. Log out\n",
      "0. Exit\n",
      " 1\n"
     ]
    },
    {
     "name": "stdout",
     "output_type": "stream",
     "text": [
      "Balance: 2000\n"
     ]
    },
    {
     "name": "stdin",
     "output_type": "stream",
     "text": [
      "1. Balance\n",
      "2. Add income\n",
      "3. Do transfer\n",
      "4. Close account\n",
      "5. Log out\n",
      "0. Exit\n",
      " 2\n",
      "Enter income:\n",
      " 2000\n",
      "1. Balance\n",
      "2. Add income\n",
      "3. Do transfer\n",
      "4. Close account\n",
      "5. Log out\n",
      "0. Exit\n",
      " 1\n"
     ]
    },
    {
     "name": "stdout",
     "output_type": "stream",
     "text": [
      "Balance: 4000\n"
     ]
    },
    {
     "name": "stdin",
     "output_type": "stream",
     "text": [
      "1. Balance\n",
      "2. Add income\n",
      "3. Do transfer\n",
      "4. Close account\n",
      "5. Log out\n",
      "0. Exit\n",
      " 4\n"
     ]
    },
    {
     "name": "stdout",
     "output_type": "stream",
     "text": [
      "The account has been closed!\n"
     ]
    },
    {
     "name": "stdin",
     "output_type": "stream",
     "text": [
      "1. Create an account\n",
      "2. Log into account\n",
      "0. Exit\n",
      " 2\n",
      "Enter your card number:\n",
      " 4000006376815170\n",
      "Enter your PIN:\n",
      " 2696\n"
     ]
    },
    {
     "name": "stdout",
     "output_type": "stream",
     "text": [
      "Wrong card number or PIN!\n"
     ]
    },
    {
     "name": "stdin",
     "output_type": "stream",
     "text": [
      "1. Create an account\n",
      "2. Log into account\n",
      "0. Exit\n",
      " 0\n"
     ]
    },
    {
     "name": "stdout",
     "output_type": "stream",
     "text": [
      "Bye!\n"
     ]
    }
   ],
   "source": [
    "create_database()  # creating the database if the database doesn't exist\n",
    "sys = True\n",
    "while sys:\n",
    "    user = main_choices()  # user input for creating account or logging in\n",
    "    if user == '1':\n",
    "        card, pin = create_choice()  # auto generate new account with pin\n",
    "        insert_value(card, pin,)\n",
    "    elif user == '2':\n",
    "        ccs, pws, bls = load_value()  # read database\n",
    "        user_cc = login_choice(ccs, pws)  # checking account number and pin match\n",
    "        if not user_cc:\n",
    "            continue\n",
    "        else:\n",
    "            login_sys = True  # log in success\n",
    "            while login_sys:\n",
    "                # user input for log in menu\n",
    "                # 1 => checking balance\n",
    "                # 2 => adding balance\n",
    "                # 3 => transfer balance\n",
    "                # 4 => closing account\n",
    "                # 5 =>  log out\n",
    "                user_login = after_login()\n",
    "                if user_login == '1':  # checking balance\n",
    "                    balance = bls[ccs.index(user_cc)]\n",
    "                    print(f'Balance: {balance}')\n",
    "                elif user_login == '2':  # adding balance\n",
    "                    new_balance = after_login2(ccs, bls)\n",
    "                    update_value(user_cc, new_balance)\n",
    "                    bls = load_value()[2]\n",
    "                elif user_login == '3':  # transfer balance\n",
    "                    trans_to = input('Transfer\\nEnter card number:\\n')\n",
    "                    if trans_to == user_cc:\n",
    "                        print(\"You can't transfer money to the same account!\")\n",
    "                    elif not check_alg(trans_to):  # check if the transfer account satisfied Luhn algorithm\n",
    "                        print(\"Probably you made a mistake in the card number. Please try again!\")\n",
    "                    elif check_alg(trans_to) and trans_to not in ccs:  # satisfied Luhn algorithm but not in data base\n",
    "                        print(\"Such a card does not exist.\")\n",
    "                    else:  # transfer account exist\n",
    "                        transfer_amount = int(input(\"Enter how much money you want to transfer:\\n\"))\n",
    "                        if transfer_amount > bls[ccs.index(user_cc)]:\n",
    "                            print(\"Not enough money!\")\n",
    "                        else:\n",
    "                            print(\"Success!\")\n",
    "                            new_balance1, new_balance2 = transfer_balance(ccs, bls, user_cc, trans_to, transfer_amount)\n",
    "                            update_value(user_cc, new_balance1)\n",
    "                            update_value(trans_to, new_balance2)\n",
    "                            bls = load_value()[2]\n",
    "                elif user_login == '4':  # closing account\n",
    "                    delete_account(user_cc)\n",
    "                    print(\"The account has been closed!\")\n",
    "                    login_sys = False\n",
    "                elif user_login == '5':  # log out\n",
    "                    print('You have successfully logged out!')\n",
    "                    break\n",
    "                elif user_login == '0':  # exit system\n",
    "                    print('Bye!')\n",
    "                    login_sys, sys = False, False\n",
    "                else:\n",
    "                    print('Invalid input')\n",
    "    elif user == \"0\":  # exit system\n",
    "        sys = False\n",
    "        print('Bye!')\n",
    "    else:\n",
    "        print('Invalid input')"
   ]
  },
  {
   "cell_type": "code",
   "execution_count": null,
   "metadata": {},
   "outputs": [],
   "source": []
  }
 ],
 "metadata": {
  "kernelspec": {
   "display_name": "Python 3",
   "language": "python",
   "name": "python3"
  },
  "language_info": {
   "codemirror_mode": {
    "name": "ipython",
    "version": 3
   },
   "file_extension": ".py",
   "mimetype": "text/x-python",
   "name": "python",
   "nbconvert_exporter": "python",
   "pygments_lexer": "ipython3",
   "version": "3.8.5"
  }
 },
 "nbformat": 4,
 "nbformat_minor": 4
}
